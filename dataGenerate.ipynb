{
 "cells": [
  {
   "cell_type": "markdown",
   "source": [
    "## Gerando Nome"
   ],
   "metadata": {}
  },
  {
   "cell_type": "code",
   "execution_count": null,
   "source": [
    "pip install names"
   ],
   "outputs": [],
   "metadata": {}
  },
  {
   "cell_type": "code",
   "execution_count": 164,
   "source": [
    "from names import get_full_name as name\n",
    "name = name()"
   ],
   "outputs": [],
   "metadata": {}
  },
  {
   "cell_type": "markdown",
   "source": [
    "## Gerando E-mail"
   ],
   "metadata": {}
  },
  {
   "cell_type": "code",
   "execution_count": 165,
   "source": [
    "email = name.replace(\" \", \"\").lower()\n",
    "email = email + '@alunos.utfpr.edu.br'"
   ],
   "outputs": [],
   "metadata": {}
  },
  {
   "cell_type": "markdown",
   "source": [
    "## Gerando WhatsApp"
   ],
   "metadata": {}
  },
  {
   "cell_type": "code",
   "execution_count": 166,
   "source": [
    "from random import randrange, choice\n",
    "\n",
    "phone = f'+55 {randrange(10, 99)} {90000 + randrange(0, 9999)}-{randrange(0, 9999):4}'"
   ],
   "outputs": [],
   "metadata": {}
  },
  {
   "cell_type": "markdown",
   "source": [
    "## Gerar RA"
   ],
   "metadata": {}
  },
  {
   "cell_type": "code",
   "execution_count": 167,
   "source": [
    "ra = f'{randrange(0, 9999999):7}'"
   ],
   "outputs": [],
   "metadata": {}
  },
  {
   "cell_type": "markdown",
   "source": [
    "## Gerar Período"
   ],
   "metadata": {}
  },
  {
   "cell_type": "code",
   "execution_count": 168,
   "source": [
    "semester = randrange(1, 10)"
   ],
   "outputs": [],
   "metadata": {}
  },
  {
   "cell_type": "markdown",
   "source": [
    "## Gerar Campus e Curso"
   ],
   "metadata": {}
  },
  {
   "cell_type": "code",
   "execution_count": 169,
   "source": [
    "coursesList = [{'administração':\n",
    "        choice(['curitiba', 'pato branco'])},\n",
    "    {'agronomia':\n",
    "        choice(['dois vizinhos', 'pato branco', 'santa helena'])},\n",
    "    {'arquitetura e urbanismo':\n",
    "        'curitiba'},\n",
    "    {'bacharelado em engenharia de software':\n",
    "        choice(['cornélio procópio', 'dois vizinhos'])},\n",
    "    {'ciência da computação':\n",
    "        choice(['campo mourão', 'medianeira', 'ponta grossa', 'santa helena'])},\n",
    "    {'ciências contábeis':\n",
    "        'pato branco'},\n",
    "    {'comunicação organizacional':\n",
    "        'curitiba'},\n",
    "    {'design':\n",
    "        'curitiba'},\n",
    "    {'educação física':\n",
    "        'curitiba'},\n",
    "    {'engenharia ambiental':\n",
    "        choice(['campo mourão', 'francisco beltrão', 'londrina', 'medianeira'])},\n",
    "    {'engenharia ambiental e sanitária':\n",
    "        'curitiba'},\n",
    "    {'engenharia civil':\n",
    "        choice(['apucarana', 'campo mourão', 'curitiba', 'guarapuava', 'pato branco', 'toledo'])},\n",
    "    {'engenharia de alimentos':\n",
    "        choice(['campo mourão', 'francisco beltrão', 'medianeira'])},\n",
    "    {'engenharia de bioprocessos e biotecnologia':\n",
    "        choice(['dois vizinhos', 'ponta grossa', 'toledo'])},\n",
    "    {'engenharia de computação':\n",
    "        choice(['apucarana', 'cornélio procópio', 'curitiba', 'pato branco', 'toledo'])},\n",
    "    {'engenharia de controle e automação':\n",
    "        choice(['cornélio procópio', 'curitiba'])},\n",
    "    {'engenharia de materiais':\n",
    "        'londrina'},\n",
    "    {'engenharia de produção':\n",
    "        choice(['londrina', 'medianeira', 'ponta grossa'])},\n",
    "    {'engenharia elétrica':\n",
    "        choice(['apucarana', 'cornélio procópio', 'curitiba', 'medianeira', 'pato branco', 'ponta grossa'])},\n",
    "    {'engenharia eletrônica':\n",
    "        choice(['campo mourão', 'cornélio procópio', 'curitiba', 'toledo'])},\n",
    "    {'engenharia florestal':\n",
    "        'dois vizinhos'},\n",
    "    {'engenharia mecânica':\n",
    "        choice(['cornélio procópio', 'curitiba', 'guarapuava', 'londrina', 'pato branco', 'ponta grossa'])},\n",
    "    {'engenharia mecatrônica':\n",
    "        'curitiba'},\n",
    "    {'engenharia química':\n",
    "        choice(['apucarana', 'campo mourão', 'francisco beltrão', 'londrina', 'ponta grossa'])},\n",
    "    {'engenharia têxtil':\n",
    "        'apucarana'},\n",
    "    {'licenciatura em ciências biológicas':\n",
    "        choice(['dois vizinhos', 'ponta grossa', 'santa helena'])},\n",
    "    {'licenciatura em física':\n",
    "        'curitiba'},\n",
    "    {'licenciatura em informática':\n",
    "        'francisco beltrão'},\n",
    "    {'licenciatura em letras inglês':\n",
    "        'curitiba'},\n",
    "    {'licenciaturas em letras português e inglês':\n",
    "        'pato branco'},\n",
    "    {'licenciatura em letras português':\n",
    "        'curitiba'},\n",
    "    {'licenciatura em matemática':\n",
    "        choice(['cornélio procópio', 'curitiba', 'pato branco', 'toledo'])},\n",
    "    {'licenciatura em química':\n",
    "        choice(['apucarana', 'campo mourão', 'curitiba', 'londrina', 'medianeira'])},\n",
    "    {'química':\n",
    "        choice(['curitiba', 'pato branco'])},\n",
    "    {'sistema de informação':\n",
    "        'curitiba'},\n",
    "    {'tecnologia em alimentos':\n",
    "        choice(['campo mourão', 'londrina', 'medianeira'])},\n",
    "    {'tecnologia em análise e desenvolvimento de sistemas':\n",
    "        choice(['cornélio procópio', 'pato branco', 'ponta grossa'])},\n",
    "    {'tecnologia em automação industrial':\n",
    "        choice(['curitiba', 'ponta grossa'])},\n",
    "    {'tecnologia em design de moda':\n",
    "        'apucarana'},\n",
    "    {'tecnologia em design gráfico':\n",
    "        'curitiba'},\n",
    "    {'tecnologia em fabricação mecânica':\n",
    "        'ponta grossa'},\n",
    "    {'tecnologia em gestão ambiental':\n",
    "        'medianeira'},\n",
    "    {'tecnologia em manutenção industrial':\n",
    "        choice(['guarapuava', 'medianeira', 'pato branco'])},\n",
    "    {'tecnologia em processos químicos':\n",
    "        'toledo'},\n",
    "    {'tecnologia em radiologia':\n",
    "        'curitiba'},\n",
    "    {'tecnologia em sistemas para internet':\n",
    "        choice(['guarapuava', 'toledo'])},\n",
    "    {'zootecnia':\n",
    "        'dois vizinhos'}]\n"
   ],
   "outputs": [],
   "metadata": {}
  },
  {
   "cell_type": "markdown",
   "source": [
    "## Área e Subárea"
   ],
   "metadata": {}
  },
  {
   "cell_type": "code",
   "execution_count": 170,
   "source": [
    "areaList = [{'administrativo':\n",
    "        choice(['operações administrativas', 'parcerias', 'comunicação', 'financeiro'])},\n",
    "    {'aviônica':\n",
    "        choice(['projetos aviônicos', 'acionamento', 'controle', 'energia', 'telemetria', 'aviônica', 'aviônica para foguetes'])},\n",
    "    {'mecânica':\n",
    "        choice(['projetos mecânicos', 'dinâmica de voo', 'propulsão', 'qualidade', 'estrutura', 'dinâmica de voo', 'simulação'])},\n",
    "    {'pesquisa e extensão':\n",
    "        choice(['pesquisa e extensão', 'extensão', 'pesquisa científica'])},\n",
    "    {'computação':\n",
    "    choice(['projetos computacionais', 'inteligência artificial', 'computação'])}]"
   ],
   "outputs": [],
   "metadata": {}
  },
  {
   "cell_type": "code",
   "execution_count": 173,
   "source": [
    "course = choice(coursesList)\n",
    "city = str(course.values())[14:-3].capitalize()\n",
    "course = str(course.keys())[12:-3].capitalize()\n",
    "area = choice(areaList)\n",
    "subarea = str(area.values())[14:-3].capitalize()\n",
    "area = str(area.keys())[12:-3].capitalize()"
   ],
   "outputs": [],
   "metadata": {}
  },
  {
   "cell_type": "markdown",
   "source": [
    "## Qualidades e Defeitos"
   ],
   "metadata": {}
  },
  {
   "cell_type": "code",
   "execution_count": 179,
   "source": [
    "pip install lorem"
   ],
   "outputs": [
    {
     "output_type": "stream",
     "name": "stdout",
     "text": [
      "Collecting lorem\n",
      "  Downloading lorem-0.1.1-py3-none-any.whl (5.0 kB)\n",
      "Installing collected packages: lorem\n",
      "Successfully installed lorem-0.1.1\n",
      "\u001b[33mWARNING: You are using pip version 21.1.1; however, version 21.2.4 is available.\n",
      "You should consider upgrading via the '/usr/local/opt/python@3.9/bin/python3.9 -m pip install --upgrade pip' command.\u001b[0m\n",
      "Note: you may need to restart the kernel to use updated packages.\n"
     ]
    }
   ],
   "metadata": {}
  },
  {
   "cell_type": "code",
   "execution_count": 183,
   "source": [
    "from lorem import paragraph\n",
    "\n",
    "good = paragraph()\n",
    "bad = paragraph()"
   ],
   "outputs": [],
   "metadata": {}
  },
  {
   "cell_type": "markdown",
   "source": [
    "## Resultado"
   ],
   "metadata": {}
  },
  {
   "cell_type": "code",
   "execution_count": 175,
   "source": [
    "print(f\"\"\"\n",
    "Nome: {name}\n",
    "E-Mail: {email}\n",
    "WhatsApp: {phone}\n",
    "Curso: {course}\n",
    "Período: {semester}\n",
    "Campus: {city}\n",
    "Área de Interesse: {area}\n",
    "Subárea: {subarea}\n",
    "Qualidades: {good}\n",
    "Defeitos\"{bad}\n",
    "\"\"\")"
   ],
   "outputs": [
    {
     "output_type": "stream",
     "name": "stdout",
     "text": [
      "\n",
      "Nome: Regenia Gallego\n",
      "E-Mail: regeniagallego@alunos.utfpr.edu.br\n",
      "WhatsApp: +55 77 92799-9176\n",
      "Curso: Engenharia civil\n",
      "Período: 9\n",
      "Campus: Curitiba\n",
      "Área de Interesse: Administrativo\n",
      "Subárea: Financeiro\n",
      "\n"
     ]
    }
   ],
   "metadata": {}
  }
 ],
 "metadata": {
  "orig_nbformat": 4,
  "language_info": {
   "name": "python",
   "version": "3.9.2",
   "mimetype": "text/x-python",
   "codemirror_mode": {
    "name": "ipython",
    "version": 3
   },
   "pygments_lexer": "ipython3",
   "nbconvert_exporter": "python",
   "file_extension": ".py"
  },
  "kernelspec": {
   "name": "python3",
   "display_name": "Python 3.9.2 64-bit"
  },
  "interpreter": {
   "hash": "aee8b7b246df8f9039afb4144a1f6fd8d2ca17a180786b69acc140d282b71a49"
  }
 },
 "nbformat": 4,
 "nbformat_minor": 2
}